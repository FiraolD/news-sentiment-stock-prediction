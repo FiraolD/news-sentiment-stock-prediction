{
 "cells": [
  {
   "cell_type": "code",
   "execution_count": null,
   "id": "06b9f64a",
   "metadata": {},
   "outputs": [],
   "source": [
    "import pandas as pd\n",
    "import logging\n",
    "\n",
    "class BaseAnalyzer:\n",
    "    def __init__(self, filepath=None):\n",
    "        self.filepath = filepath\n",
    "        self.data = None\n",
    "        self.logger = logging.getLogger(self.__class__.__name__)\n",
    "\n",
    "    def load_data(self):\n",
    "        raise NotImplementedError(\"Subclasses must implement load_data()\")\n",
    "\n",
    "    def save_data(self, output_path):\n",
    "        try:\n",
    "            self.data.to_csv(output_path, index=False)\n",
    "            self.logger.info(f\"Data saved to {output_path}\")\n",
    "        except Exception as e:\n",
    "            self.logger.error(f\"Error saving data: {e}\")\n",
    "            raise\n",
    "        \n",
    "        "
   ]
  }
 ],
 "metadata": {
  "language_info": {
   "name": "python"
  }
 },
 "nbformat": 4,
 "nbformat_minor": 5
}
