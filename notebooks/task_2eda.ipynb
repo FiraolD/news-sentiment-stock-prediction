{
 "cells": [
  {
   "cell_type": "code",
   "execution_count": null,
   "id": "b6b6c1da",
   "metadata": {},
   "outputs": [],
   "source": [
    "import sys\n",
    "sys.path.append(\"C:/Users/firao/Desktop/PYTHON PROJECTS/KIAM PROJECTS/news-sentiment-stock-prediction\")  # Add root directory to path\n",
    "\n",
    "from src.stock_analyzer import StockAnalyzer\n",
    "import logging\n",
    "\n",
    "# Configure logging\n",
    "logging.basicConfig(level=logging.INFO)\n",
    "\n",
    "def process_stock(ticker):\n",
    "    \"\"\"\n",
    "    Process stock data for a given ticker.\n",
    "    \"\"\"\n",
    "    analyzer = StockAnalyzer(ticker)\n",
    "    analyzer.load_data()\n",
    "    analyzer.calculate_indicators()\n",
    "    analyzer.save_processed_data()\n",
    "    return analyzer\n",
    "\n",
    "# List of tickers for the 7 companies\n",
    "tickers = [\"AAPL\", \"MSFT\", \"GOOGL\", \"AMZN\", \"TSLA\", \"META\", \"NVDA\"]\n",
    "\n",
    "# Process each stock\n",
    "for ticker in tickers:\n",
    "    logging.info(f\"Processing data for {ticker}\")\n",
    "    analyzer = process_stock(ticker)\n",
    "    logging.info(f\"Finished processing data for {ticker}\")"
   ]
  }
 ],
 "metadata": {
  "language_info": {
   "name": "python"
  }
 },
 "nbformat": 4,
 "nbformat_minor": 5
}
